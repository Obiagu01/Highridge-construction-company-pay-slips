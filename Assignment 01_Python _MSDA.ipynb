{
 "cells": [
  {
   "cell_type": "code",
   "execution_count": 221,
   "id": "66aa8a56-f05d-4260-8226-99d194f62203",
   "metadata": {},
   "outputs": [
    {
     "name": "stdout",
     "output_type": "stream",
     "text": [
      "---payslip---\n",
      " Name:\n"
     ]
    }
   ],
   "source": [
    "#creating variable for the workers\n",
    "\n",
    "number_workers=400\n",
    "\n",
    "gender =\"male\",\"female\"\n",
    "\n",
    "#the list of the worker in range\n",
    "\n",
    "workers = [ f'worker {i+1}' for i in range(number_workers)]\n",
    "\n",
    "#generating the list for 15 of the workers below\n",
    "\n",
    "print (f\"---payslip---\")\n",
    "print(f\" Name:\")\n"
   ]
  },
  {
   "cell_type": "code",
   "execution_count": 219,
   "id": "be754130-48e7-4804-b8c9-c53373ff6f6d",
   "metadata": {},
   "outputs": [
    {
     "name": "stdout",
     "output_type": "stream",
     "text": [
      "---payslip---\n",
      " Name:Worker A\n",
      " Salary:$8500\n",
      " level: A1\n",
      "-------------\n",
      "\n"
     ]
    }
   ],
   "source": [
    "number_workers=400\n",
    "#the list of the worker in range\n",
    "\n",
    "workers = [ f'worker {i+1}' for i in range(number_workers)]\n",
    "\n",
    "#first condition and payslip\n",
    "for  worker in workers:\n",
    "    salary = 8500 #assuming this is the base salary\n",
    "    if salary > 10000 <20000:\n",
    "        level =\"A1\"\n",
    "    else:\n",
    "        level = \"normal employee\"\n",
    "\n",
    "print (f\"---payslip---\")\n",
    "print(f\" Name:Worker A\")\n",
    "print(f\" Salary:${salary}\")\n",
    "print(f\" level: A1\")\n",
    "print(f\"-------------\\n\")"
   ]
  },
  {
   "cell_type": "code",
   "execution_count": 223,
   "id": "14bcc508-3d7b-4cd9-b65f-2cb905c89a38",
   "metadata": {},
   "outputs": [
    {
     "name": "stdout",
     "output_type": "stream",
     "text": [
      "---payslip---\n",
      " Name: Worker B\n",
      " Salary:$8500\n",
      "gender: female\n",
      " level: A5-F\n",
      "-------------\n",
      "\n"
     ]
    }
   ],
   "source": [
    "# for the second condition, it is as follows\n",
    "#genders [\"male\",\"female\"]\n",
    "\n",
    "for worker in workers:\n",
    "    if salary > 7500 <30000:\n",
    "        worker == \"female\" and level == \"A5-F\"\n",
    "    else:\n",
    "        \"normal employee\"\n",
    "    \n",
    "print (f\"---payslip---\")\n",
    "print(f\" Name: Worker B\")\n",
    "print(f\" Salary:${salary}\")\n",
    "print(f\"gender: female\")\n",
    "print(f\" level: A5-F\")\n",
    "print(f\"-------------\\n\")"
   ]
  },
  {
   "cell_type": "code",
   "execution_count": 284,
   "id": "c7496fa8-d6a7-4660-a033-0e69116225f2",
   "metadata": {},
   "outputs": [
    {
     "name": "stdout",
     "output_type": "stream",
     "text": [
      "---this implies there is an undefined error in the code!\n",
      "---payslip---\n",
      " Name:Worker A\n",
      " Salary:$8500\n",
      " level: A1\n",
      "-------------\n",
      "\n"
     ]
    }
   ],
   "source": [
    "# exception handling\n",
    "\n",
    "number_workers= 400\n",
    "    \n",
    "\n",
    "#using the code below as an analogy for exception handling by intentionally making an error\n",
    "\n",
    "try:\n",
    "    workers = [f'worker {i+1}' for i in range(number_-workers)]    \n",
    "except:\n",
    "    print('---this implies there is an undefined error in the code!')\n",
    "\n",
    "    \n",
    "\n",
    "#first condition and payslip\n",
    "for  worker in workers: \n",
    "    salary = 8500 #assuming this is the base salary\n",
    "    if salary > 10000 <20000:\n",
    "        level =\"A1\"\n",
    "    else:\n",
    "        level = \"normal employee\"\n",
    "\n",
    "print (f\"---payslip---\")\n",
    "print(f\" Name:Worker A\")\n",
    "print(f\" Salary:${salary}\")\n",
    "print(f\" level: A1\")\n",
    "print(f\"-------------\\n\")\n",
    "\n"
   ]
  },
  {
   "cell_type": "code",
   "execution_count": null,
   "id": "3c971a36-469d-4c48-8c11-6553de3b9565",
   "metadata": {},
   "outputs": [],
   "source": []
  }
 ],
 "metadata": {
  "kernelspec": {
   "display_name": "Python 3 (ipykernel)",
   "language": "python",
   "name": "python3"
  },
  "language_info": {
   "codemirror_mode": {
    "name": "ipython",
    "version": 3
   },
   "file_extension": ".py",
   "mimetype": "text/x-python",
   "name": "python",
   "nbconvert_exporter": "python",
   "pygments_lexer": "ipython3",
   "version": "3.11.5"
  }
 },
 "nbformat": 4,
 "nbformat_minor": 5
}
